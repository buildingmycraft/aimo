{
 "cells": [
  {
   "cell_type": "markdown",
   "id": "5b635703",
   "metadata": {},
   "source": [
    "# Test setup of base pytorch environment "
   ]
  },
  {
   "cell_type": "code",
   "execution_count": 1,
   "id": "a62aa5e2",
   "metadata": {},
   "outputs": [
    {
     "name": "stdout",
     "output_type": "stream",
     "text": [
      "tensor([[0.0735, 0.9735, 0.4599],\n",
      "        [0.8130, 0.2738, 0.0879],\n",
      "        [0.2296, 0.2543, 0.9656],\n",
      "        [0.0926, 0.0576, 0.2879],\n",
      "        [0.2962, 0.5592, 0.7459]])\n"
     ]
    }
   ],
   "source": [
    "import torch\n",
    "\n",
    "x = torch.rand(5, 3)\n",
    "print(x)"
   ]
  },
  {
   "cell_type": "code",
   "execution_count": 2,
   "id": "829ba558",
   "metadata": {},
   "outputs": [
    {
     "data": {
      "text/plain": [
       "True"
      ]
     },
     "execution_count": 2,
     "metadata": {},
     "output_type": "execute_result"
    }
   ],
   "source": [
    "torch.cuda.is_available()"
   ]
  }
 ],
 "metadata": {
  "kernelspec": {
   "display_name": "Python [conda env:aimo]",
   "language": "python",
   "name": "conda-env-aimo-py"
  },
  "language_info": {
   "codemirror_mode": {
    "name": "ipython",
    "version": 3
   },
   "file_extension": ".py",
   "mimetype": "text/x-python",
   "name": "python",
   "nbconvert_exporter": "python",
   "pygments_lexer": "ipython3",
   "version": "3.12.7"
  }
 },
 "nbformat": 4,
 "nbformat_minor": 5
}
